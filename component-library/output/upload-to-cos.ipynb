{
 "cells": [
  {
   "cell_type": "markdown",
   "id": "af0a5a86-e19a-44e4-963d-0f3c63ba92d6",
   "metadata": {},
   "source": [
    "# output-upload-to-cos"
   ]
  },
  {
   "cell_type": "markdown",
   "id": "53af08cf-0149-4369-93d6-fba2203ec6cc",
   "metadata": {
    "papermill": {
     "duration": 0.001958,
     "end_time": "2022-10-26T08:38:11.044750",
     "exception": false,
     "start_time": "2022-10-26T08:38:11.042792",
     "status": "completed"
    },
    "tags": []
   },
   "source": [
    "Uploads a file to any S3 compliant Cloud Object Storage"
   ]
  },
  {
   "cell_type": "code",
   "execution_count": null,
   "id": "05a6d935-38c5-49df-9df2-fbc8c31c4634",
   "metadata": {
    "papermill": {
     "duration": 2.110786,
     "end_time": "2022-10-26T08:38:13.159053",
     "exception": false,
     "start_time": "2022-10-26T08:38:11.048267",
     "status": "completed"
    },
    "tags": []
   },
   "outputs": [],
   "source": [
    "!pip install aiobotocore botocore s3fs"
   ]
  },
  {
   "cell_type": "code",
   "execution_count": null,
   "id": "85859764-8fd2-4394-88d6-b3c54194b868",
   "metadata": {
    "papermill": {
     "duration": 0.790577,
     "end_time": "2022-10-26T08:38:13.951695",
     "exception": false,
     "start_time": "2022-10-26T08:38:13.161118",
     "status": "completed"
    },
    "tags": []
   },
   "outputs": [],
   "source": [
    "import logging\n",
    "import os\n",
    "import sys\n",
    "import re\n",
    "import s3fs"
   ]
  },
  {
   "cell_type": "code",
   "execution_count": null,
   "id": "a8069e66-fad7-4be9-bc6f-b9eaa119b3bc",
   "metadata": {
    "papermill": {
     "duration": 0.01422,
     "end_time": "2022-10-26T08:38:13.968669",
     "exception": false,
     "start_time": "2022-10-26T08:38:13.954449",
     "status": "completed"
    },
    "tags": []
   },
   "outputs": [],
   "source": [
    "# access key id\n",
    "access_key_id = os.environ.get('access_key_id')\n",
    "\n",
    "# secret access key\n",
    "secret_access_key = os.environ.get('secret_access_key')\n",
    "\n",
    "# cos/s3 endpoint\n",
    "endpoint = os.environ.get('endpoint')\n",
    "\n",
    "# cos bucket name\n",
    "bucket_name = os.environ.get('bucket_name')\n",
    "\n",
    "# source file to be uploaded\n",
    "source_file = os.environ.get('source_file')\n",
    "\n",
    "# destination file name\n",
    "destination_file = os.environ.get('destination_file')\n",
    "\n",
    "# temporary data folder\n",
    "data_dir = os.environ.get('data_dir', '../../data/')\n",
    "\n",
    "# dummy_output (to be fixed once C3 supports < 1 outputs)\n",
    "output_dummy = os.environ.get('output_dummy', 'output_dummy')"
   ]
  },
  {
   "cell_type": "code",
   "execution_count": null,
   "id": "ad8bf902-7582-445b-aea1-a9ce869532ee",
   "metadata": {
    "papermill": {
     "duration": 0.016182,
     "end_time": "2022-10-26T08:38:13.987113",
     "exception": false,
     "start_time": "2022-10-26T08:38:13.970931",
     "status": "completed"
    },
    "tags": []
   },
   "outputs": [],
   "source": [
    "parameters = list(\n",
    "    map(lambda s: re.sub('$', '\"', s),\n",
    "        map(\n",
    "            lambda s: s.replace('=', '=\"'),\n",
    "            filter(\n",
    "                lambda s: s.find('=') > -1 and bool(re.match(r'[A-Za-z0-9_]*=[.\\/A-Za-z0-9]*', s)),\n",
    "                sys.argv\n",
    "            )\n",
    "    )))\n",
    "\n",
    "for parameter in parameters:\n",
    "    logging.warning('Parameter: ' + parameter)\n",
    "    exec(parameter)"
   ]
  },
  {
   "cell_type": "code",
   "execution_count": null,
   "id": "704117f6-702d-43ee-9092-201c46b31e15",
   "metadata": {
    "papermill": {
     "duration": 0.014524,
     "end_time": "2022-10-26T08:38:14.006336",
     "exception": false,
     "start_time": "2022-10-26T08:38:13.991812",
     "status": "completed"
    },
    "tags": []
   },
   "outputs": [],
   "source": [
    "s3 = s3fs.S3FileSystem(\n",
    "    anon=False,\n",
    "    key=access_key_id,\n",
    "    secret=secret_access_key,\n",
    "    client_kwargs={'endpoint_url': endpoint}\n",
    ")"
   ]
  },
  {
   "cell_type": "code",
   "execution_count": null,
   "id": "60436d8a-f461-4723-abeb-cc22b555c782",
   "metadata": {
    "papermill": {
     "duration": 1.715267,
     "end_time": "2022-10-26T08:38:15.723556",
     "exception": false,
     "start_time": "2022-10-26T08:38:14.008289",
     "status": "completed"
    },
    "tags": []
   },
   "outputs": [],
   "source": [
    "s3.put(data_dir + source_file, bucket_name + '/' + destination_file)"
   ]
  }
 ],
 "metadata": {
  "kernelspec": {
   "display_name": "Python 3 (ipykernel)",
   "language": "python",
   "name": "python3"
  },
  "language_info": {
   "codemirror_mode": {
    "name": "ipython",
    "version": 3
   },
   "file_extension": ".py",
   "mimetype": "text/x-python",
   "name": "python",
   "nbconvert_exporter": "python",
   "pygments_lexer": "ipython3",
   "version": "3.10.6"
  },
  "papermill": {
   "default_parameters": {},
   "duration": 6.522865,
   "end_time": "2022-10-26T08:38:16.157357",
   "environment_variables": {},
   "exception": null,
   "input_path": "/home/romeokienzler/gitco/claimed/component-library/output/upload-to-cos.ipynb",
   "output_path": "/home/romeokienzler/gitco/claimed/component-library/output/upload-to-cos.ipynb",
   "parameters": {},
   "start_time": "2022-10-26T08:38:09.634492",
   "version": "2.4.0"
  }
 },
 "nbformat": 4,
 "nbformat_minor": 5
}
